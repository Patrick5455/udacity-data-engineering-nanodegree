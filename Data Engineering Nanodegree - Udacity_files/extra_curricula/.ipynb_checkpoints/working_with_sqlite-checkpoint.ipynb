{
 "cells": [
  {
   "cell_type": "markdown",
   "metadata": {},
   "source": [
    "## Working with SQLite"
   ]
  },
  {
   "cell_type": "code",
   "execution_count": 21,
   "metadata": {},
   "outputs": [],
   "source": [
    "# import lbraries\n",
    "import sqlite3 as sl3\n",
    "from sqlite3 import Error as e\n",
    "import pandas as pd"
   ]
  },
  {
   "cell_type": "markdown",
   "metadata": {},
   "source": [
    "#### Creating and connection to a data base\n",
    "> If the databse name does not matches any existing databse in the specified folder, it would create a new one with the name"
   ]
  },
  {
   "cell_type": "code",
   "execution_count": 23,
   "metadata": {},
   "outputs": [
    {
     "name": "stdout",
     "output_type": "stream",
     "text": [
      "COnnection Successful\n",
      "Cursor Gotten\n",
      "Connection CLosed\n"
     ]
    }
   ],
   "source": [
    "#create new database connection & set auto_commit\n",
    "try:\n",
    "    conn = sl3.connect('./database/test.db',isolation_level=None)\n",
    "    print('COnnection Successful')\n",
    "    #  isolation_level=None) is used for auto-commits \n",
    "    #so we dont't have to always do conn.commit() after every transactions\n",
    "\n",
    "    #get cursur for performing operations\n",
    "    cur = conn.cursor()\n",
    "    print('Cursor Gotten')\n",
    "    #close connection\n",
    "    conn.close()\n",
    "    print('Connection CLosed')\n",
    "except e:\n",
    "    print(e)"
   ]
  },
  {
   "cell_type": "markdown",
   "metadata": {},
   "source": [
    "#### CREATE TABLES IN OUR NEW DATABASE & INSERT VALUES"
   ]
  },
  {
   "cell_type": "code",
   "execution_count": 24,
   "metadata": {},
   "outputs": [
    {
     "name": "stdout",
     "output_type": "stream",
     "text": [
      "COnnection Successful\n",
      "Cursor Gotten\n"
     ]
    }
   ],
   "source": [
    "try:\n",
    "    # create nww connection and set isolation_level = None for auto commit\n",
    "    conn = sl3.connect('./database/test.db', isolation_level = None)\n",
    "    print('COnnection Successful')\n",
    "    # get curso for query execution\n",
    "    cur = conn.cursor()\n",
    "    print('Cursor Gotten')\n",
    "except e:\n",
    "    print(e)"
   ]
  },
  {
   "cell_type": "code",
   "execution_count": 92,
   "metadata": {},
   "outputs": [],
   "source": [
    "try:\n",
    "    cur.execute('DROP TABLE IF EXISTS customer;')\n",
    "except e:\n",
    "    print(e)"
   ]
  },
  {
   "cell_type": "code",
   "execution_count": 93,
   "metadata": {},
   "outputs": [
    {
     "name": "stdout",
     "output_type": "stream",
     "text": [
      "Table customer created successfully\n"
     ]
    }
   ],
   "source": [
    "try:\n",
    "    cur.execute('CREATE TABLE IF NOT EXISTS customer \\\n",
    "                (user_id int primary key,\\\n",
    "                product_id int NOT NULL,\\\n",
    "                name text,\\\n",
    "                gender text ,\\\n",
    "                age int,\\\n",
    "                city text);')\n",
    "    print('Table customer created successfully')\n",
    "except e:\n",
    "    print(e)\n",
    "# note we do not need to commit changes since we already set autocmmit with isolation_level=None"
   ]
  },
  {
   "cell_type": "markdown",
   "metadata": {},
   "source": [
    "> Insert values"
   ]
  },
  {
   "cell_type": "code",
   "execution_count": 94,
   "metadata": {},
   "outputs": [
    {
     "name": "stdout",
     "output_type": "stream",
     "text": [
      "values inserted succesfully\n"
     ]
    }
   ],
   "source": [
    "try:\n",
    "    cur.execute(\"INSERT INTO customer\\\n",
    "    (user_id, product_id, name, gender, age, city )\\\n",
    "    VALUES(1006, 3, 'Princess Diana', 'Female', 28, 'Amazons');\")\n",
    "    print(\"values inserted succesfully\")\n",
    "except e:\n",
    "    print(e)"
   ]
  },
  {
   "cell_type": "markdown",
   "metadata": {},
   "source": [
    "#### multiople insertions"
   ]
  },
  {
   "cell_type": "markdown",
   "metadata": {},
   "source": [
    "> 1."
   ]
  },
  {
   "cell_type": "code",
   "execution_count": 95,
   "metadata": {},
   "outputs": [
    {
     "name": "stdout",
     "output_type": "stream",
     "text": [
      "Multiole insertion successfull\n"
     ]
    }
   ],
   "source": [
    "try:\n",
    "   # Execute multiple commands at once\n",
    "    cur.executescript('''Insert Into CUSTOMER Values\n",
    "                (1005, 3, 'Clark Kent', 'Male', 36, 'Metropolis');\n",
    "                \n",
    "                Insert Into CUSTOMER Values\n",
    "                (1003, 4, 'Bruce Wayne', 'Male', 39, 'Gotham City');\n",
    "                \n",
    "                ''')    \n",
    "    print(\"Multiole insertion successfull\")\n",
    "except e :\n",
    "    print(e)"
   ]
  },
  {
   "cell_type": "code",
   "execution_count": null,
   "metadata": {},
   "outputs": [],
   "source": []
  },
  {
   "cell_type": "code",
   "execution_count": null,
   "metadata": {},
   "outputs": [],
   "source": []
  }
 ],
 "metadata": {
  "kernelspec": {
   "display_name": "Python 3",
   "language": "python",
   "name": "python3"
  },
  "language_info": {
   "codemirror_mode": {
    "name": "ipython",
    "version": 3
   },
   "file_extension": ".py",
   "mimetype": "text/x-python",
   "name": "python",
   "nbconvert_exporter": "python",
   "pygments_lexer": "ipython3",
   "version": "3.6.9"
  }
 },
 "nbformat": 4,
 "nbformat_minor": 4
}
