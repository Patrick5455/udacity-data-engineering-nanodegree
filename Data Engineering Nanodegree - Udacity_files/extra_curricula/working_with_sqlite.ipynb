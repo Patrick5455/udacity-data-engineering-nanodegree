{
 "cells": [
  {
   "cell_type": "markdown",
   "metadata": {},
   "source": [
    "## Working with SQLite"
   ]
  },
  {
   "cell_type": "code",
   "execution_count": 21,
   "metadata": {},
   "outputs": [],
   "source": [
    "# import lbraries\n",
    "import sqlite3 as sl3\n",
    "from sqlite3 import Error as e\n",
    "import pandas as pd"
   ]
  },
  {
   "cell_type": "markdown",
   "metadata": {},
   "source": [
    "#### Creating and connection to a data base\n",
    "> If the databse name does not matches any existing databse in the specified folder, it would create a new one with the name"
   ]
  },
  {
   "cell_type": "code",
   "execution_count": 23,
   "metadata": {},
   "outputs": [
    {
     "name": "stdout",
     "output_type": "stream",
     "text": [
      "COnnection Successful\n",
      "Cursor Gotten\n",
      "Connection CLosed\n"
     ]
    }
   ],
   "source": [
    "#create new database connection & set auto_commit\n",
    "try:\n",
    "    conn = sl3.connect('./database/test.db',isolation_level=None)\n",
    "    print('COnnection Successful')\n",
    "    #  isolation_level=None) is used for auto-commits \n",
    "    #so we dont't have to always do conn.commit() after every transactions\n",
    "\n",
    "    #get cursur for performing operations\n",
    "    cur = conn.cursor()\n",
    "    print('Cursor Gotten')\n",
    "    #close connection\n",
    "    conn.close()\n",
    "    print('Connection CLosed')\n",
    "except e:\n",
    "    print(e)"
   ]
  },
  {
   "cell_type": "markdown",
   "metadata": {},
   "source": [
    "#### CREATE TABLES IN OUR NEW DATABASE & INSERT VALUES"
   ]
  },
  {
   "cell_type": "code",
   "execution_count": 24,
   "metadata": {},
   "outputs": [
    {
     "name": "stdout",
     "output_type": "stream",
     "text": [
      "COnnection Successful\n",
      "Cursor Gotten\n"
     ]
    }
   ],
   "source": [
    "try:\n",
    "    # create nww connection and set isolation_level = None for auto commit\n",
    "    conn = sl3.connect('./database/test.db', isolation_level = None)\n",
    "    print('COnnection Successful')\n",
    "    # get curso for query execution\n",
    "    cur = conn.cursor()\n",
    "    print('Cursor Gotten')\n",
    "except e:\n",
    "    print(e)"
   ]
  },
  {
   "cell_type": "code",
   "execution_count": 25,
   "metadata": {},
   "outputs": [],
   "source": [
    "try:\n",
    "    cur.execute('DROP TABLE IF EXISTS customer;')\n",
    "except e:\n",
    "    print(e)"
   ]
  },
  {
   "cell_type": "code",
   "execution_count": null,
   "metadata": {},
   "outputs": [],
   "source": [
    "try:\n",
    "    cur.execute('CREATE TABLE customer \\\n",
    "                (priduct_id int NOT NULL,\\\n",
    "                name text,\\\n",
    "                gender tex)')"
   ]
  }
 ],
 "metadata": {
  "kernelspec": {
   "display_name": "Python 3",
   "language": "python",
   "name": "python3"
  },
  "language_info": {
   "codemirror_mode": {
    "name": "ipython",
    "version": 3
   },
   "file_extension": ".py",
   "mimetype": "text/x-python",
   "name": "python",
   "nbconvert_exporter": "python",
   "pygments_lexer": "ipython3",
   "version": "3.6.9"
  }
 },
 "nbformat": 4,
 "nbformat_minor": 4
}
